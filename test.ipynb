{
 "cells": [
  {
   "cell_type": "code",
   "execution_count": 1,
   "metadata": {},
   "outputs": [],
   "source": [
    "import numpy as np"
   ]
  },
  {
   "cell_type": "code",
   "execution_count": 14,
   "metadata": {},
   "outputs": [
    {
     "data": {
      "text/plain": [
       "array([[0.7593518 , 0.2673707 ],\n",
       "       [0.57656718, 0.26375659],\n",
       "       [0.61419966, 0.08747376]])"
      ]
     },
     "execution_count": 14,
     "metadata": {},
     "output_type": "execute_result"
    }
   ],
   "source": [
    "A = np.random.rand(3,2)\n",
    "B = np.random.rand(3,2)\n",
    "C = np.random.rand(2,1)\n",
    "A"
   ]
  },
  {
   "cell_type": "code",
   "execution_count": 1,
   "metadata": {},
   "outputs": [],
   "source": [
    "import torch\n",
    "from torch.autograd import grad\n",
    "import torch.nn as nn"
   ]
  },
  {
   "cell_type": "code",
   "execution_count": 20,
   "metadata": {},
   "outputs": [
    {
     "name": "stdout",
     "output_type": "stream",
     "text": [
      "Loss: 313.75\n",
      "dloss/dx:\n",
      " (tensor([[  2.0000,  47.5000],\n",
      "        [-19.5000, 234.5000]]),)\n"
     ]
    }
   ],
   "source": [
    "# Create some dummy data.\n",
    "#x = torch.ones(2, 2, requires_grad=True)\n",
    "x = torch.Tensor([[2.0,3.0],[1.0,5.0]]); x.requires_grad = True\n",
    "gt = torch.ones_like(x) * 16 - 0.5  # \"ground-truths\" \n",
    "\n",
    "# We will use MSELoss as an example.\n",
    "loss_fn = nn.MSELoss()\n",
    "\n",
    "# Do some computations.\n",
    "v = x + 2\n",
    "y = v ** 2\n",
    "\n",
    "# Compute loss.\n",
    "loss = loss_fn(y, gt)\n",
    "\n",
    "print(f'Loss: {loss}')\n",
    "\n",
    "# Now compute gradients:\n",
    "d_loss_dx = grad(outputs=loss, inputs=x)\n",
    "print(f'dloss/dx:\\n {d_loss_dx}')"
   ]
  },
  {
   "cell_type": "code",
   "execution_count": 34,
   "metadata": {},
   "outputs": [
    {
     "name": "stdout",
     "output_type": "stream",
     "text": [
      "Loss: 189.25\n",
      "dloss/dx:\n",
      " (tensor([[ -6.7500,  -7.0000],\n",
      "        [-13.5000,  68.2500]]), tensor([[-13.5000,  -5.2500],\n",
      "        [ -6.7500,  48.7500]]))\n"
     ]
    }
   ],
   "source": [
    "# Create some dummy data.\n",
    "#x = torch.ones(2, 2, requires_grad=True)\n",
    "x1 = torch.Tensor([[2.0,3.0],[1.0,5.0]]); x1.requires_grad = True\n",
    "x2 = torch.Tensor([[1.0,4.0],[2.0,7.0]]); x2.requires_grad = True\n",
    "gt = torch.ones_like(x1) * 16 - 0.5  # \"ground-truths\" \n",
    "\n",
    "# We will use MSELoss as an example.\n",
    "loss_fn = nn.MSELoss()\n",
    "\n",
    "# Do some computations.\n",
    "y = x1 * x2\n",
    "\n",
    "# Compute loss.\n",
    "loss = loss_fn(y, gt)\n",
    "\n",
    "print(f'Loss: {loss}')\n",
    "\n",
    "# Now compute gradients:\n",
    "d_loss_dx = grad(outputs=loss, inputs=[x1,x2])\n",
    "print(f'dloss/dx:\\n {d_loss_dx}')"
   ]
  },
  {
   "cell_type": "code",
   "execution_count": 22,
   "metadata": {},
   "outputs": [
    {
     "data": {
      "text/plain": [
       "tensor([[ 2., 12.],\n",
       "        [ 2., 35.]], grad_fn=<MulBackward0>)"
      ]
     },
     "execution_count": 22,
     "metadata": {},
     "output_type": "execute_result"
    }
   ],
   "source": [
    "y"
   ]
  },
  {
   "cell_type": "code",
   "execution_count": 30,
   "metadata": {},
   "outputs": [
    {
     "data": {
      "text/plain": [
       "tensor([[ 8., 29.],\n",
       "        [11., 39.]], grad_fn=<MmBackward0>)"
      ]
     },
     "execution_count": 30,
     "metadata": {},
     "output_type": "execute_result"
    }
   ],
   "source": [
    "torch.mm(x1,x2)"
   ]
  },
  {
   "cell_type": "code",
   "execution_count": 35,
   "metadata": {},
   "outputs": [
    {
     "data": {
      "text/plain": [
       "tensor([[ 8., 29.],\n",
       "        [11., 39.]], grad_fn=<MmBackward0>)"
      ]
     },
     "execution_count": 35,
     "metadata": {},
     "output_type": "execute_result"
    }
   ],
   "source": [
    "x1 @ x2"
   ]
  }
 ],
 "metadata": {
  "kernelspec": {
   "display_name": "dl3a",
   "language": "python",
   "name": "python3"
  },
  "language_info": {
   "codemirror_mode": {
    "name": "ipython",
    "version": 3
   },
   "file_extension": ".py",
   "mimetype": "text/x-python",
   "name": "python",
   "nbconvert_exporter": "python",
   "pygments_lexer": "ipython3",
   "version": "3.10.13"
  }
 },
 "nbformat": 4,
 "nbformat_minor": 2
}
